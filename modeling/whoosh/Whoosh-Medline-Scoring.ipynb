{
 "cells": [
  {
   "cell_type": "code",
   "execution_count": 1,
   "metadata": {},
   "outputs": [],
   "source": [
    "import os\n",
    "from whoosh.index import create_in\n",
    "from whoosh.fields import Schema, TEXT, ID\n",
    "import sys\n",
    "import csv\n",
    "from whoosh.index import open_dir  # for opening index directory\n",
    "from whoosh import scoring  # used in Search section\n",
    "from whoosh.query import *  # used in Search section"
   ]
  },
  {
   "cell_type": "code",
   "execution_count": 2,
   "metadata": {},
   "outputs": [],
   "source": [
    "# Define Schema.  Defines fields to be searched.\n",
    "\n",
    "schema = Schema(herb=TEXT(stored=True), # Set stored=True if field should be returned in results\n",
    "                other_names=TEXT, \n",
    "                description=TEXT,\n",
    "                effectiveness=TEXT,\n",
    "                safety=TEXT,\n",
    "                effect=TEXT,\n",
    "                safe=TEXT,\n",
    "                interact=TEXT)"
   ]
  },
  {
   "cell_type": "code",
   "execution_count": 3,
   "metadata": {},
   "outputs": [],
   "source": [
    "# Create index directory\n",
    "\n",
    "if not os.path.exists(\"index\"):\n",
    "    os.mkdir(\"index\")\n",
    "ix = create_in(\"index\", schema)"
   ]
  },
  {
   "cell_type": "code",
   "execution_count": 4,
   "metadata": {},
   "outputs": [],
   "source": [
    "# Open Directory\n",
    "\n",
    "ix = open_dir(\"index\")"
   ]
  },
  {
   "cell_type": "code",
   "execution_count": 5,
   "metadata": {},
   "outputs": [
    {
     "data": {
      "text/plain": [
       "131072"
      ]
     },
     "execution_count": 5,
     "metadata": {},
     "output_type": "execute_result"
    }
   ],
   "source": [
    "# one of the fields was throwing an error because it was too long so expand the csv field size that can be imported\n",
    "csv.field_size_limit(131072000)"
   ]
  },
  {
   "cell_type": "code",
   "execution_count": 6,
   "metadata": {},
   "outputs": [],
   "source": [
    "# Write all the data from the csv file to the index\n",
    "writer = ix.writer()\n",
    "\n",
    "with open (r'.\\medline_natmeds_extract.csv',encoding='utf8') as csv_file:\n",
    "        csv_reader = csv.reader(csv_file, delimiter=',')\n",
    "        for row in csv_reader:\n",
    "            writer.add_document(herb=row[1], \n",
    "                                other_names=row[2],\n",
    "                                description=row[3],\n",
    "                                effectiveness=row[4],\n",
    "                                safety=row[6],\n",
    "                                effect=row[9],\n",
    "                                safe=row[10],\n",
    "                                interact=row[11]\n",
    "                               )\n",
    "writer.commit()"
   ]
  },
  {
   "cell_type": "code",
   "execution_count": 7,
   "metadata": {},
   "outputs": [],
   "source": [
    "### Attempt at using a custom scoring algorithm.  Not needed for using default scoring algorithm\n",
    "#def pos_score_fn(searcher, fieldname, text, matcher):\n",
    "#    poses = len(text)#matcher.value_as(\"positions\")\n",
    "#    print(poses, text, matcher)\n",
    "#    return 1.0 / (poses + 1)\n",
    "\n",
    "#pos_weighting = scoring.FunctionWeighting(pos_score_fn)"
   ]
  },
  {
   "cell_type": "code",
   "execution_count": 8,
   "metadata": {},
   "outputs": [
    {
     "name": "stdout",
     "output_type": "stream",
     "text": [
      "4\n",
      "<Hit {'herb': 'Maca'}> 5.481302175939282\n",
      "<Hit {'herb': 'Ashwagandha'}> 3.134558320549097\n",
      "<Hit {'herb': 'Honey'}> 2.886292312014482\n",
      "<Hit {'herb': 'Zinc'}> 1.6312272371622896\n"
     ]
    }
   ],
   "source": [
    "# Search on field in index using given search term. \n",
    "with ix.searcher(weighting=scoring.BM25F) as s:\n",
    "    myquery = (Term(\"description\", u\"fertility\"))  #which field to search on, which word\n",
    "    results = s.search(myquery)\n",
    "    print(len(results))\n",
    "    for r in results:\n",
    "        print (r,r.score)"
   ]
  }
 ],
 "metadata": {
  "kernelspec": {
   "display_name": "Python 3",
   "language": "python",
   "name": "python3"
  },
  "language_info": {
   "codemirror_mode": {
    "name": "ipython",
    "version": 3
   },
   "file_extension": ".py",
   "mimetype": "text/x-python",
   "name": "python",
   "nbconvert_exporter": "python",
   "pygments_lexer": "ipython3",
   "version": "3.7.1"
  }
 },
 "nbformat": 4,
 "nbformat_minor": 2
}
