{
 "cells": [
  {
   "cell_type": "code",
   "execution_count": 35,
   "metadata": {},
   "outputs": [],
   "source": [
    "import pandas as pd\n",
    "\n",
    "# To install psycopg2 using one of the following:\n",
    "# `conda install -c anaconda psycopg2` \n",
    "# `pip install psycopg2` \n",
    "\n",
    "import psycopg2 \n"
   ]
  },
  {
   "cell_type": "code",
   "execution_count": 39,
   "metadata": {},
   "outputs": [],
   "source": [
    "# please put in the password\n",
    "\n",
    "connection = psycopg2.connect(\n",
    "    host = 'database-1.czlutn2hktjl.us-west-2.rds.amazonaws.com',\n",
    "    port = 5432,\n",
    "    user = 'postgres',\n",
    "    password = '',\n",
    "    database='TestDB'\n",
    "    )"
   ]
  },
  {
   "cell_type": "code",
   "execution_count": 5,
   "metadata": {},
   "outputs": [
    {
     "name": "stdout",
     "output_type": "stream",
     "text": [
      "{'user': 'postgres', 'dbname': 'TestDB', 'host': 'database-1.czlutn2hktjl.us-west-2.rds.amazonaws.com', 'port': '5432', 'tty': '', 'options': '', 'sslmode': 'prefer', 'sslcompression': '0', 'krbsrvname': 'postgres', 'target_session_attrs': 'any'} \n",
      "\n",
      "You are connected to -  ('PostgreSQL 11.5 on x86_64-pc-linux-gnu, compiled by gcc (GCC) 4.8.3 20140911 (Red Hat 4.8.3-9), 64-bit',) \n",
      "\n"
     ]
    }
   ],
   "source": [
    "# check connection\n",
    "cursor = connection.cursor()\n",
    "\n",
    "# Print PostgreSQL Connection properties\n",
    "print ( connection.get_dsn_parameters(),\"\\n\")\n",
    "\n",
    "# Print PostgreSQL version\n",
    "cursor.execute(\"SELECT version();\")\n",
    "record = cursor.fetchone()\n",
    "print(\"You are connected to - \", record,\"\\n\")"
   ]
  },
  {
   "cell_type": "code",
   "execution_count": 7,
   "metadata": {},
   "outputs": [
    {
     "name": "stdout",
     "output_type": "stream",
     "text": [
      "Table created successfully in PostgreSQL \n"
     ]
    }
   ],
   "source": [
    "# check mobile table\n",
    "create_table_query = '''CREATE TABLE mobile\n",
    "          (ID INT PRIMARY KEY     NOT NULL,\n",
    "          MODEL           TEXT    NOT NULL,\n",
    "          PRICE         REAL); '''\n",
    "    \n",
    "cursor.execute(create_table_query)\n",
    "connection.commit()\n",
    "print(\"Table created successfully in PostgreSQL \")"
   ]
  },
  {
   "cell_type": "code",
   "execution_count": null,
   "metadata": {},
   "outputs": [],
   "source": []
  }
 ],
 "metadata": {
  "kernelspec": {
   "display_name": "Python 3",
   "language": "python",
   "name": "python3"
  },
  "language_info": {
   "codemirror_mode": {
    "name": "ipython",
    "version": 3
   },
   "file_extension": ".py",
   "mimetype": "text/x-python",
   "name": "python",
   "nbconvert_exporter": "python",
   "pygments_lexer": "ipython3",
   "version": "3.7.3"
  }
 },
 "nbformat": 4,
 "nbformat_minor": 2
}
